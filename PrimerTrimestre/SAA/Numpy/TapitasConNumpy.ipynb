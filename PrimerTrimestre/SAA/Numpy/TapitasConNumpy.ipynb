{
  "nbformat": 4,
  "nbformat_minor": 0,
  "metadata": {
    "colab": {
      "provenance": [],
      "authorship_tag": "ABX9TyMKCbHz+JzOGfxlCEHbMH1c",
      "include_colab_link": true
    },
    "kernelspec": {
      "name": "python3",
      "display_name": "Python 3"
    },
    "language_info": {
      "name": "python"
    }
  },
  "cells": [
    {
      "cell_type": "markdown",
      "metadata": {
        "id": "view-in-github",
        "colab_type": "text"
      },
      "source": [
        "<a href=\"https://colab.research.google.com/github/Ims2002/IABD/blob/main/PrimerTrimestre/SAA/Numpy/TapitasConNumpy.ipynb\" target=\"_parent\"><img src=\"https://colab.research.google.com/assets/colab-badge.svg\" alt=\"Open In Colab\"/></a>"
      ]
    },
    {
      "cell_type": "code",
      "execution_count": null,
      "metadata": {
        "id": "Cq-L8OjnzUwe"
      },
      "outputs": [],
      "source": [
        "import numpy as np"
      ]
    },
    {
      "cell_type": "code",
      "source": [
        "miArray = np.array([1,2,3,4,5])"
      ],
      "metadata": {
        "id": "r9Z6GtIkzoAt"
      },
      "execution_count": null,
      "outputs": []
    },
    {
      "cell_type": "code",
      "source": [
        "print(\"Array NumPy:\")\n",
        "print(miArray)"
      ],
      "metadata": {
        "colab": {
          "base_uri": "https://localhost:8080/"
        },
        "id": "0kWxH5DJz2cA",
        "outputId": "27e34604-5ee5-4a76-cb02-d528dad4151e"
      },
      "execution_count": null,
      "outputs": [
        {
          "output_type": "stream",
          "name": "stdout",
          "text": [
            "Array NumPy:\n",
            "[1 2 3 4 5]\n"
          ]
        }
      ]
    },
    {
      "cell_type": "code",
      "source": [
        "suma = np.sum(miArray)\n",
        "print(\"La suma de los valores del array es\", suma)"
      ],
      "metadata": {
        "colab": {
          "base_uri": "https://localhost:8080/"
        },
        "id": "v0FtX904z51P",
        "outputId": "9e6e0419-cab0-465c-8ca7-3e72c364cce5"
      },
      "execution_count": null,
      "outputs": [
        {
          "output_type": "stream",
          "name": "stdout",
          "text": [
            "La suma de los valores del array es 15\n"
          ]
        }
      ]
    },
    {
      "cell_type": "code",
      "source": [
        "media = np.mean(miArray)\n",
        "print(\"Media de los elementos:\", media)"
      ],
      "metadata": {
        "colab": {
          "base_uri": "https://localhost:8080/"
        },
        "id": "AGDMkgcI0Mdw",
        "outputId": "7740848b-6b57-4450-8d48-7ca6d60179f2"
      },
      "execution_count": null,
      "outputs": [
        {
          "output_type": "stream",
          "name": "stdout",
          "text": [
            "Media de los elementos: 3.0\n"
          ]
        }
      ]
    },
    {
      "cell_type": "code",
      "source": [
        "producto = np.prod(miArray)\n",
        "print(\"Producto de los elementos:\", producto)"
      ],
      "metadata": {
        "colab": {
          "base_uri": "https://localhost:8080/"
        },
        "id": "HZFdI_kM0U_I",
        "outputId": "a1523f8a-1620-4478-bb67-35d483f60b6d"
      },
      "execution_count": null,
      "outputs": [
        {
          "output_type": "stream",
          "name": "stdout",
          "text": [
            "Producto de los elementos: 120\n"
          ]
        }
      ]
    },
    {
      "cell_type": "code",
      "source": [
        "array_cuadrado = np.square(miArray)\n",
        "print(\"Array con elementos al cuadrado:\")\n",
        "print(array_cuadrado)"
      ],
      "metadata": {
        "colab": {
          "base_uri": "https://localhost:8080/"
        },
        "id": "N0Pua_XD0dYY",
        "outputId": "1617aafc-e41e-464e-c704-80bcae434bd1"
      },
      "execution_count": null,
      "outputs": [
        {
          "output_type": "stream",
          "name": "stdout",
          "text": [
            "Array con elementos al cuadrado:\n",
            "[ 1  4  9 16 25]\n"
          ]
        }
      ]
    },
    {
      "cell_type": "code",
      "source": [
        "import random as rnd"
      ],
      "metadata": {
        "id": "N2KVaLYx0nQO"
      },
      "execution_count": null,
      "outputs": []
    },
    {
      "cell_type": "code",
      "source": [
        "arraySinNumpy = 100000"
      ],
      "metadata": {
        "id": "xUxi_6091_ZA"
      },
      "execution_count": null,
      "outputs": []
    },
    {
      "cell_type": "code",
      "source": [
        "arraySinNumpy"
      ],
      "metadata": {
        "id": "CZB-B0bQ2Qo-"
      },
      "execution_count": null,
      "outputs": []
    }
  ]
}